{
  "cells": [
    {
      "cell_type": "markdown",
      "metadata": {
        "id": "view-in-github",
        "colab_type": "text"
      },
      "source": [
        "<a href=\"https://colab.research.google.com/github/hanna0702/Machine-Learning-and-AI-Workshop/blob/main/01_eda.ipynb\" target=\"_parent\"><img src=\"https://colab.research.google.com/assets/colab-badge.svg\" alt=\"Open In Colab\"/></a>"
      ]
    },
    {
      "cell_type": "markdown",
      "metadata": {
        "id": "wlwLw0z0k4qf"
      },
      "source": [
        "# Explore and Visualize the Data\n",
        "Authors: Ryan Nie, Christina Xu"
      ]
    },
    {
      "cell_type": "code",
      "source": [
        "# connect to Google Drive\n",
        "from google.colab import drive\n",
        "drive.mount('/content/drive')\n",
        "#hello!"
      ],
      "metadata": {
        "id": "0ed76cqLlBpJ",
        "colab": {
          "base_uri": "https://localhost:8080/"
        },
        "outputId": "4b582ee2-e56e-417b-c242-a7f0dc34321c"
      },
      "execution_count": 1,
      "outputs": [
        {
          "output_type": "stream",
          "name": "stdout",
          "text": [
            "Mounted at /content/drive\n"
          ]
        }
      ]
    },
    {
      "cell_type": "code",
      "execution_count": 2,
      "metadata": {
        "id": "MM_T2nXfk4qi"
      },
      "outputs": [],
      "source": [
        "# import packages \n",
        "\n",
        "# data manipulation\n",
        "import numpy as np\n",
        "import pandas as pd\n",
        "\n",
        "# data visualization\n",
        "import matplotlib.pyplot as plt\n",
        "import seaborn as sns"
      ]
    },
    {
      "cell_type": "markdown",
      "metadata": {
        "id": "yujWfi5ck4qj"
      },
      "source": [
        "## 1 Data attributes \n",
        "\n",
        "1. **Race**: White, Black, and Other\n",
        "\n",
        "\n",
        "2. **Marital Status**: Married, Divorced, Single, Widowed, and Separated\n",
        "\n",
        "\n",
        "3. **T Stage** - refers to the size and extent of the main tumor. The higher the number after the T, the larger the tumor or the more it has grown into nearby tissues. \n",
        "    * T-T0: No evidence of primary tumor\n",
        "    * T1 (includes T1a, T1b, and T1c): Tumor is 2 cm (3/4 of an inch) or less across\n",
        "    * T2: Tumor is more than 2 cm but not more than 5 cm (2 inches) across\n",
        "    * T3: Tumor is more than 5 cm across\n",
        "\n",
        "\n",
        "4. **N Stage** - refers to the the number of nearby lymph nodes that have cancer. The M refers to whether the cancer has metastasized. This means that the cancer has spread from the main tumor to other parts of the body.N1, N2, N3: Refers to the number and location of lymph nodes that contain cancer. The higher the number after the N, the more lymph nodes that contain cancer.\n",
        "\n",
        "\n",
        "5. **6th Stage**: Stage groups for breast cancer.Doctors assign the stage of the cancer by combining the T, N, and M classifications (see above), the tumor grade, and the results of ER/PR and HER2 testing. This information is used to help determine your prognosis. Doctors may refer to stage I to stage IIA cancer as \"early stage\" and stage IIB to stage III as \"locally advanced.\"\n",
        "\n",
        "    * Stage IIA:\n",
        "\n",
        "        * There is no evidence of a tumor in the breast, but the cancer has spread to 1 to 3 axillary lymph nodes. It has not spread to distant parts of the body (T0, N1, M0).\n",
        "\n",
        "        * The tumor is 20 mm or smaller and has spread to 1 to 3 axillary lymph nodes (T1, N1, M0).\n",
        "\n",
        "        * The tumor is larger than 20 mm but not larger than 50 mm and has not spread to the axillary lymph nodes (T2, N0, M0).\n",
        "    * Stage IIB:\n",
        "\n",
        "         * The tumor is larger than 20 mm but not larger than 50 mm and has spread to 1 to 3 axillary lymph nodes (T2, N1, M0).\n",
        "\n",
        "         * The tumor is larger than 50 mm but has not spread to the axillary lymph nodes (T3, N0, M0).\n",
        "    * Stage IIIA: The tumor of any size has spread to 4 to 9 axillary lymph nodes or to internal mammary lymph nodes. It has not spread to other parts of the body (T0, T1, T2, or T3; N2; M0). Stage IIIA may also be a tumor larger than 50 mm that has spread to 1 to 3 axillary lymph nodes (T3, N1, M0).\n",
        "\n",
        "    * Stage IIIB: The tumor has spread to the chest wall or caused swelling or ulceration of the breast, or it is diagnosed as inflammatory breast cancer. It may or may not have spread to up to 9 axillary or internal mammary lymph nodes. It has not spread to other parts of the body (T4; N0, N1, or N2; M0).\n",
        "\n",
        "    * Stage IIIC: A tumor of any size that has spread to 10 or more axillary lymph nodes, the internal mammary lymph nodes, and/or the lymph nodes under the collarbone. It has not spread to other parts of the body (any T, N3, M0).\n",
        "\n",
        "\n",
        "6. **differentiate**: Poorly differentiated, Moderately differentiated, Well differentiated,and Undifferentiated\n",
        "\n",
        "\n",
        "7. **Grade**:\n",
        "    * 1: looks most like normal breast cells and is usually slow growing \n",
        "    * 2: looks less like normal cells and is growing faster \n",
        "    * 3 looks different to normal breast cells and is usually fast growing\n",
        "\n",
        "\n",
        "8. **A Stage** - These parameters show stages of cancer and is a summary of all data, it is an attribute that involves T,N and Grade data.\n",
        "\n",
        "    * Regional: The cancer has spread outside the breast to nearby structures or lymph nodes.\n",
        "    * Distant: The cancer has spread to distant parts of the body such as the lungs, liver or bones.\n",
        "\n",
        "\n",
        "9. **Estrogen Status**: Estrogen positive and Estrogen negative\n",
        "\n",
        "    * Estrogen positive : - Cancer cells that are ER positive may need estrogen to grow. These cells may stop growing or die when treated with substances that block the binding and actions of estrogen. Also called estrogen receptor positive.\n",
        "\n",
        "    * Estrogen negative : - negative breast cancers are a group of tumors with poor prognosis and fewer cancer prevention and treatment strategies compared to ER-positive tumors.\n",
        "\n",
        "\n",
        "10. **Progesterone Status**: Progesterone positive and Progesterone negative\n",
        "\n",
        "    * Progesterone positive:- This type of breast cancer is sensitive to progesterone, and the cells have receptors that allow them to use this hormone to grow. Treatment with endocrine therapy blocks the growth of the cancer cells.\n",
        "\n",
        "    * Progesterone negative: - This type of breast cancers have no estrogen or progesterone receptors. Treatment with hormone therapy drugs is not helpful for these cancers. These cancers tend to grow faster than hormone receptor-positive cancers.\n",
        "\n",
        "\n",
        "11. **Regional Node Examined** - Records the total number of regional lymph nodes that were removed and examined by the pathologist.\n",
        "\n",
        "\n",
        "12. **Reginol Node Positive** -  Records the exact number of regional lymph nodes examined by the pathologist that were found to contain metastases.\n",
        "\n",
        "\n",
        "13. **Survival Months** - Created using complete dates, including days, therefore may differ from survival time calculated from year and month only.\n",
        "\n",
        "\n",
        "14. **Status**: Any patient that dies after the follow-up cut-off date is recoded to alive as of the cut-off date.\n",
        "\n",
        "**References**:\n",
        "\n",
        "https://ieee-dataport.org/open-access/seer-breast-cancer-data"
      ]
    },
    {
      "cell_type": "markdown",
      "metadata": {
        "id": "VqWNMkeik4qk"
      },
      "source": [
        "## 2 Download the data \n",
        "\n",
        "The data has been downloaded and extracted locally from Kaggle into the folder named data. Kaggle data source: https://www.kaggle.com/datasets/reihanenamdari/breast-cancer"
      ]
    },
    {
      "cell_type": "markdown",
      "metadata": {
        "id": "f73IrHFSk4ql"
      },
      "source": [
        "## 3 Explore the data using Pandas\n",
        "## 3.1 Load data from disk and view the raw data.\n",
        "At a quick glance, we want to look for:\n",
        "* NaNs (null values)\n",
        "* Understand the features and hypothesize how they may predict Status\n",
        "* The types of data (numerical vs categorical)"
      ]
    },
    {
      "cell_type": "code",
      "execution_count": null,
      "metadata": {
        "id": "5DWN1_NqYNPk",
        "colab": {
          "base_uri": "https://localhost:8080/",
          "height": 392
        },
        "outputId": "adb2b0e5-b368-47af-9ce9-834afafae283"
      },
      "outputs": [
        {
          "output_type": "execute_result",
          "data": {
            "text/plain": [
              "   Age   Race Marital Status T Stage  N Stage 6th Stage  \\\n",
              "0   68  White        Married       T1      N1       IIA   \n",
              "1   50  White        Married       T2      N2      IIIA   \n",
              "2   58  White       Divorced       T3      N3      IIIC   \n",
              "3   58  White        Married       T1      N1       IIA   \n",
              "4   47  White        Married       T2      N1       IIB   \n",
              "\n",
              "               differentiate Grade   A Stage  Tumor Size Estrogen Status  \\\n",
              "0      Poorly differentiated     3  Regional           4        Positive   \n",
              "1  Moderately differentiated     2  Regional          35        Positive   \n",
              "2  Moderately differentiated     2  Regional          63        Positive   \n",
              "3      Poorly differentiated     3  Regional          18        Positive   \n",
              "4      Poorly differentiated     3  Regional          41        Positive   \n",
              "\n",
              "  Progesterone Status  Regional Node Examined  Reginol Node Positive  \\\n",
              "0            Positive                      24                      1   \n",
              "1            Positive                      14                      5   \n",
              "2            Positive                      14                      7   \n",
              "3            Positive                       2                      1   \n",
              "4            Positive                       3                      1   \n",
              "\n",
              "   Survival Months Status  \n",
              "0               60  Alive  \n",
              "1               62  Alive  \n",
              "2               75  Alive  \n",
              "3               84  Alive  \n",
              "4               50  Alive  "
            ],
            "text/html": [
              "\n",
              "  <div id=\"df-2e466c38-f96d-4863-9ea2-ded3a37eb0f7\">\n",
              "    <div class=\"colab-df-container\">\n",
              "      <div>\n",
              "<style scoped>\n",
              "    .dataframe tbody tr th:only-of-type {\n",
              "        vertical-align: middle;\n",
              "    }\n",
              "\n",
              "    .dataframe tbody tr th {\n",
              "        vertical-align: top;\n",
              "    }\n",
              "\n",
              "    .dataframe thead th {\n",
              "        text-align: right;\n",
              "    }\n",
              "</style>\n",
              "<table border=\"1\" class=\"dataframe\">\n",
              "  <thead>\n",
              "    <tr style=\"text-align: right;\">\n",
              "      <th></th>\n",
              "      <th>Age</th>\n",
              "      <th>Race</th>\n",
              "      <th>Marital Status</th>\n",
              "      <th>T Stage</th>\n",
              "      <th>N Stage</th>\n",
              "      <th>6th Stage</th>\n",
              "      <th>differentiate</th>\n",
              "      <th>Grade</th>\n",
              "      <th>A Stage</th>\n",
              "      <th>Tumor Size</th>\n",
              "      <th>Estrogen Status</th>\n",
              "      <th>Progesterone Status</th>\n",
              "      <th>Regional Node Examined</th>\n",
              "      <th>Reginol Node Positive</th>\n",
              "      <th>Survival Months</th>\n",
              "      <th>Status</th>\n",
              "    </tr>\n",
              "  </thead>\n",
              "  <tbody>\n",
              "    <tr>\n",
              "      <th>0</th>\n",
              "      <td>68</td>\n",
              "      <td>White</td>\n",
              "      <td>Married</td>\n",
              "      <td>T1</td>\n",
              "      <td>N1</td>\n",
              "      <td>IIA</td>\n",
              "      <td>Poorly differentiated</td>\n",
              "      <td>3</td>\n",
              "      <td>Regional</td>\n",
              "      <td>4</td>\n",
              "      <td>Positive</td>\n",
              "      <td>Positive</td>\n",
              "      <td>24</td>\n",
              "      <td>1</td>\n",
              "      <td>60</td>\n",
              "      <td>Alive</td>\n",
              "    </tr>\n",
              "    <tr>\n",
              "      <th>1</th>\n",
              "      <td>50</td>\n",
              "      <td>White</td>\n",
              "      <td>Married</td>\n",
              "      <td>T2</td>\n",
              "      <td>N2</td>\n",
              "      <td>IIIA</td>\n",
              "      <td>Moderately differentiated</td>\n",
              "      <td>2</td>\n",
              "      <td>Regional</td>\n",
              "      <td>35</td>\n",
              "      <td>Positive</td>\n",
              "      <td>Positive</td>\n",
              "      <td>14</td>\n",
              "      <td>5</td>\n",
              "      <td>62</td>\n",
              "      <td>Alive</td>\n",
              "    </tr>\n",
              "    <tr>\n",
              "      <th>2</th>\n",
              "      <td>58</td>\n",
              "      <td>White</td>\n",
              "      <td>Divorced</td>\n",
              "      <td>T3</td>\n",
              "      <td>N3</td>\n",
              "      <td>IIIC</td>\n",
              "      <td>Moderately differentiated</td>\n",
              "      <td>2</td>\n",
              "      <td>Regional</td>\n",
              "      <td>63</td>\n",
              "      <td>Positive</td>\n",
              "      <td>Positive</td>\n",
              "      <td>14</td>\n",
              "      <td>7</td>\n",
              "      <td>75</td>\n",
              "      <td>Alive</td>\n",
              "    </tr>\n",
              "    <tr>\n",
              "      <th>3</th>\n",
              "      <td>58</td>\n",
              "      <td>White</td>\n",
              "      <td>Married</td>\n",
              "      <td>T1</td>\n",
              "      <td>N1</td>\n",
              "      <td>IIA</td>\n",
              "      <td>Poorly differentiated</td>\n",
              "      <td>3</td>\n",
              "      <td>Regional</td>\n",
              "      <td>18</td>\n",
              "      <td>Positive</td>\n",
              "      <td>Positive</td>\n",
              "      <td>2</td>\n",
              "      <td>1</td>\n",
              "      <td>84</td>\n",
              "      <td>Alive</td>\n",
              "    </tr>\n",
              "    <tr>\n",
              "      <th>4</th>\n",
              "      <td>47</td>\n",
              "      <td>White</td>\n",
              "      <td>Married</td>\n",
              "      <td>T2</td>\n",
              "      <td>N1</td>\n",
              "      <td>IIB</td>\n",
              "      <td>Poorly differentiated</td>\n",
              "      <td>3</td>\n",
              "      <td>Regional</td>\n",
              "      <td>41</td>\n",
              "      <td>Positive</td>\n",
              "      <td>Positive</td>\n",
              "      <td>3</td>\n",
              "      <td>1</td>\n",
              "      <td>50</td>\n",
              "      <td>Alive</td>\n",
              "    </tr>\n",
              "  </tbody>\n",
              "</table>\n",
              "</div>\n",
              "      <button class=\"colab-df-convert\" onclick=\"convertToInteractive('df-2e466c38-f96d-4863-9ea2-ded3a37eb0f7')\"\n",
              "              title=\"Convert this dataframe to an interactive table.\"\n",
              "              style=\"display:none;\">\n",
              "        \n",
              "  <svg xmlns=\"http://www.w3.org/2000/svg\" height=\"24px\"viewBox=\"0 0 24 24\"\n",
              "       width=\"24px\">\n",
              "    <path d=\"M0 0h24v24H0V0z\" fill=\"none\"/>\n",
              "    <path d=\"M18.56 5.44l.94 2.06.94-2.06 2.06-.94-2.06-.94-.94-2.06-.94 2.06-2.06.94zm-11 1L8.5 8.5l.94-2.06 2.06-.94-2.06-.94L8.5 2.5l-.94 2.06-2.06.94zm10 10l.94 2.06.94-2.06 2.06-.94-2.06-.94-.94-2.06-.94 2.06-2.06.94z\"/><path d=\"M17.41 7.96l-1.37-1.37c-.4-.4-.92-.59-1.43-.59-.52 0-1.04.2-1.43.59L10.3 9.45l-7.72 7.72c-.78.78-.78 2.05 0 2.83L4 21.41c.39.39.9.59 1.41.59.51 0 1.02-.2 1.41-.59l7.78-7.78 2.81-2.81c.8-.78.8-2.07 0-2.86zM5.41 20L4 18.59l7.72-7.72 1.47 1.35L5.41 20z\"/>\n",
              "  </svg>\n",
              "      </button>\n",
              "      \n",
              "  <style>\n",
              "    .colab-df-container {\n",
              "      display:flex;\n",
              "      flex-wrap:wrap;\n",
              "      gap: 12px;\n",
              "    }\n",
              "\n",
              "    .colab-df-convert {\n",
              "      background-color: #E8F0FE;\n",
              "      border: none;\n",
              "      border-radius: 50%;\n",
              "      cursor: pointer;\n",
              "      display: none;\n",
              "      fill: #1967D2;\n",
              "      height: 32px;\n",
              "      padding: 0 0 0 0;\n",
              "      width: 32px;\n",
              "    }\n",
              "\n",
              "    .colab-df-convert:hover {\n",
              "      background-color: #E2EBFA;\n",
              "      box-shadow: 0px 1px 2px rgba(60, 64, 67, 0.3), 0px 1px 3px 1px rgba(60, 64, 67, 0.15);\n",
              "      fill: #174EA6;\n",
              "    }\n",
              "\n",
              "    [theme=dark] .colab-df-convert {\n",
              "      background-color: #3B4455;\n",
              "      fill: #D2E3FC;\n",
              "    }\n",
              "\n",
              "    [theme=dark] .colab-df-convert:hover {\n",
              "      background-color: #434B5C;\n",
              "      box-shadow: 0px 1px 3px 1px rgba(0, 0, 0, 0.15);\n",
              "      filter: drop-shadow(0px 1px 2px rgba(0, 0, 0, 0.3));\n",
              "      fill: #FFFFFF;\n",
              "    }\n",
              "  </style>\n",
              "\n",
              "      <script>\n",
              "        const buttonEl =\n",
              "          document.querySelector('#df-2e466c38-f96d-4863-9ea2-ded3a37eb0f7 button.colab-df-convert');\n",
              "        buttonEl.style.display =\n",
              "          google.colab.kernel.accessAllowed ? 'block' : 'none';\n",
              "\n",
              "        async function convertToInteractive(key) {\n",
              "          const element = document.querySelector('#df-2e466c38-f96d-4863-9ea2-ded3a37eb0f7');\n",
              "          const dataTable =\n",
              "            await google.colab.kernel.invokeFunction('convertToInteractive',\n",
              "                                                     [key], {});\n",
              "          if (!dataTable) return;\n",
              "\n",
              "          const docLinkHtml = 'Like what you see? Visit the ' +\n",
              "            '<a target=\"_blank\" href=https://colab.research.google.com/notebooks/data_table.ipynb>data table notebook</a>'\n",
              "            + ' to learn more about interactive tables.';\n",
              "          element.innerHTML = '';\n",
              "          dataTable['output_type'] = 'display_data';\n",
              "          await google.colab.output.renderOutput(dataTable, element);\n",
              "          const docLink = document.createElement('div');\n",
              "          docLink.innerHTML = docLinkHtml;\n",
              "          element.appendChild(docLink);\n",
              "        }\n",
              "      </script>\n",
              "    </div>\n",
              "  </div>\n",
              "  "
            ]
          },
          "metadata": {},
          "execution_count": 3
        }
      ],
      "source": [
        "data = pd.read_csv('/content/drive/MyDrive/Copy of Breast Cancer Detection/data/Breast_Cancer.csv')\n",
        "data.head() # first 5 rows"
      ]
    },
    {
      "cell_type": "markdown",
      "metadata": {
        "id": "VAtjoZU9k4ql"
      },
      "source": [
        "## 3.2 View information about the data\n",
        "* How many features do we have?\n",
        "* What features seem redundant?\n",
        "* How many null values do each of them have?\n",
        "    * The fewer non-null values, the less utility\n",
        "* What are the different data types? "
      ]
    },
    {
      "cell_type": "code",
      "execution_count": null,
      "metadata": {
        "id": "7-UxHLAnYbYm",
        "colab": {
          "base_uri": "https://localhost:8080/"
        },
        "outputId": "89a4cf02-6acd-4957-cb65-d6ad33b16001"
      },
      "outputs": [
        {
          "output_type": "stream",
          "name": "stdout",
          "text": [
            "<class 'pandas.core.frame.DataFrame'>\n",
            "RangeIndex: 4024 entries, 0 to 4023\n",
            "Data columns (total 16 columns):\n",
            " #   Column                  Non-Null Count  Dtype \n",
            "---  ------                  --------------  ----- \n",
            " 0   Age                     4024 non-null   int64 \n",
            " 1   Race                    4024 non-null   object\n",
            " 2   Marital Status          4024 non-null   object\n",
            " 3   T Stage                 4024 non-null   object\n",
            " 4   N Stage                 4024 non-null   object\n",
            " 5   6th Stage               4024 non-null   object\n",
            " 6   differentiate           4024 non-null   object\n",
            " 7   Grade                   4024 non-null   object\n",
            " 8   A Stage                 4024 non-null   object\n",
            " 9   Tumor Size              4024 non-null   int64 \n",
            " 10  Estrogen Status         4024 non-null   object\n",
            " 11  Progesterone Status     4024 non-null   object\n",
            " 12  Regional Node Examined  4024 non-null   int64 \n",
            " 13  Reginol Node Positive   4024 non-null   int64 \n",
            " 14  Survival Months         4024 non-null   int64 \n",
            " 15  Status                  4024 non-null   object\n",
            "dtypes: int64(5), object(11)\n",
            "memory usage: 503.1+ KB\n"
          ]
        }
      ],
      "source": [
        "data.info() "
      ]
    },
    {
      "cell_type": "markdown",
      "metadata": {
        "id": "QrkzeH93k4qm"
      },
      "source": [
        "Our data has no null values. Typically, real world data would have some, if not many. If so, your next step would be to explore the null values in the feaures."
      ]
    },
    {
      "cell_type": "markdown",
      "metadata": {
        "id": "dgvWL7_Yk4qm"
      },
      "source": [
        "## 3.3 Get Summary Statistics"
      ]
    },
    {
      "cell_type": "markdown",
      "metadata": {
        "id": "NbbayVCVk4qm"
      },
      "source": [
        "* Count - each column has 4024 values\n",
        "* Mean, min(imum), and max(imum) are self-explanatory\n",
        "* Std (standard deviation) - explains spread out the values are from the mean\n",
        "  * Normal (Gaussian) distribution follows 68-95-99.7 rule\n",
        "    * 68% of values are within 1 std\n",
        "    * 95% of values are within 2 std\n",
        "    * 99.7% of values are within 3 std\n",
        "* 25% - first quartile\n",
        "    * eg. 25% of the patients were under 47 years old\n",
        "* 50% - second quartile or median\n",
        "* 75 % - third quartile"
      ]
    },
    {
      "cell_type": "code",
      "execution_count": null,
      "metadata": {
        "id": "X2lSeC6yYmi7",
        "colab": {
          "base_uri": "https://localhost:8080/",
          "height": 206
        },
        "outputId": "ef2299cc-c244-4e25-d602-b0d4bee5bb00"
      },
      "outputs": [
        {
          "output_type": "execute_result",
          "data": {
            "text/plain": [
              "                         count       mean        std   min   25%   50%   75%  \\\n",
              "Age                     4024.0  53.972167   8.963134  30.0  47.0  54.0  61.0   \n",
              "Tumor Size              4024.0  30.473658  21.119696   1.0  16.0  25.0  38.0   \n",
              "Regional Node Examined  4024.0  14.357107   8.099675   1.0   9.0  14.0  19.0   \n",
              "Reginol Node Positive   4024.0   4.158052   5.109331   1.0   1.0   2.0   5.0   \n",
              "Survival Months         4024.0  71.297962  22.921430   1.0  56.0  73.0  90.0   \n",
              "\n",
              "                          max  \n",
              "Age                      69.0  \n",
              "Tumor Size              140.0  \n",
              "Regional Node Examined   61.0  \n",
              "Reginol Node Positive    46.0  \n",
              "Survival Months         107.0  "
            ],
            "text/html": [
              "\n",
              "  <div id=\"df-00a4b8f5-96ba-4228-8b0b-ae633b76b97f\">\n",
              "    <div class=\"colab-df-container\">\n",
              "      <div>\n",
              "<style scoped>\n",
              "    .dataframe tbody tr th:only-of-type {\n",
              "        vertical-align: middle;\n",
              "    }\n",
              "\n",
              "    .dataframe tbody tr th {\n",
              "        vertical-align: top;\n",
              "    }\n",
              "\n",
              "    .dataframe thead th {\n",
              "        text-align: right;\n",
              "    }\n",
              "</style>\n",
              "<table border=\"1\" class=\"dataframe\">\n",
              "  <thead>\n",
              "    <tr style=\"text-align: right;\">\n",
              "      <th></th>\n",
              "      <th>count</th>\n",
              "      <th>mean</th>\n",
              "      <th>std</th>\n",
              "      <th>min</th>\n",
              "      <th>25%</th>\n",
              "      <th>50%</th>\n",
              "      <th>75%</th>\n",
              "      <th>max</th>\n",
              "    </tr>\n",
              "  </thead>\n",
              "  <tbody>\n",
              "    <tr>\n",
              "      <th>Age</th>\n",
              "      <td>4024.0</td>\n",
              "      <td>53.972167</td>\n",
              "      <td>8.963134</td>\n",
              "      <td>30.0</td>\n",
              "      <td>47.0</td>\n",
              "      <td>54.0</td>\n",
              "      <td>61.0</td>\n",
              "      <td>69.0</td>\n",
              "    </tr>\n",
              "    <tr>\n",
              "      <th>Tumor Size</th>\n",
              "      <td>4024.0</td>\n",
              "      <td>30.473658</td>\n",
              "      <td>21.119696</td>\n",
              "      <td>1.0</td>\n",
              "      <td>16.0</td>\n",
              "      <td>25.0</td>\n",
              "      <td>38.0</td>\n",
              "      <td>140.0</td>\n",
              "    </tr>\n",
              "    <tr>\n",
              "      <th>Regional Node Examined</th>\n",
              "      <td>4024.0</td>\n",
              "      <td>14.357107</td>\n",
              "      <td>8.099675</td>\n",
              "      <td>1.0</td>\n",
              "      <td>9.0</td>\n",
              "      <td>14.0</td>\n",
              "      <td>19.0</td>\n",
              "      <td>61.0</td>\n",
              "    </tr>\n",
              "    <tr>\n",
              "      <th>Reginol Node Positive</th>\n",
              "      <td>4024.0</td>\n",
              "      <td>4.158052</td>\n",
              "      <td>5.109331</td>\n",
              "      <td>1.0</td>\n",
              "      <td>1.0</td>\n",
              "      <td>2.0</td>\n",
              "      <td>5.0</td>\n",
              "      <td>46.0</td>\n",
              "    </tr>\n",
              "    <tr>\n",
              "      <th>Survival Months</th>\n",
              "      <td>4024.0</td>\n",
              "      <td>71.297962</td>\n",
              "      <td>22.921430</td>\n",
              "      <td>1.0</td>\n",
              "      <td>56.0</td>\n",
              "      <td>73.0</td>\n",
              "      <td>90.0</td>\n",
              "      <td>107.0</td>\n",
              "    </tr>\n",
              "  </tbody>\n",
              "</table>\n",
              "</div>\n",
              "      <button class=\"colab-df-convert\" onclick=\"convertToInteractive('df-00a4b8f5-96ba-4228-8b0b-ae633b76b97f')\"\n",
              "              title=\"Convert this dataframe to an interactive table.\"\n",
              "              style=\"display:none;\">\n",
              "        \n",
              "  <svg xmlns=\"http://www.w3.org/2000/svg\" height=\"24px\"viewBox=\"0 0 24 24\"\n",
              "       width=\"24px\">\n",
              "    <path d=\"M0 0h24v24H0V0z\" fill=\"none\"/>\n",
              "    <path d=\"M18.56 5.44l.94 2.06.94-2.06 2.06-.94-2.06-.94-.94-2.06-.94 2.06-2.06.94zm-11 1L8.5 8.5l.94-2.06 2.06-.94-2.06-.94L8.5 2.5l-.94 2.06-2.06.94zm10 10l.94 2.06.94-2.06 2.06-.94-2.06-.94-.94-2.06-.94 2.06-2.06.94z\"/><path d=\"M17.41 7.96l-1.37-1.37c-.4-.4-.92-.59-1.43-.59-.52 0-1.04.2-1.43.59L10.3 9.45l-7.72 7.72c-.78.78-.78 2.05 0 2.83L4 21.41c.39.39.9.59 1.41.59.51 0 1.02-.2 1.41-.59l7.78-7.78 2.81-2.81c.8-.78.8-2.07 0-2.86zM5.41 20L4 18.59l7.72-7.72 1.47 1.35L5.41 20z\"/>\n",
              "  </svg>\n",
              "      </button>\n",
              "      \n",
              "  <style>\n",
              "    .colab-df-container {\n",
              "      display:flex;\n",
              "      flex-wrap:wrap;\n",
              "      gap: 12px;\n",
              "    }\n",
              "\n",
              "    .colab-df-convert {\n",
              "      background-color: #E8F0FE;\n",
              "      border: none;\n",
              "      border-radius: 50%;\n",
              "      cursor: pointer;\n",
              "      display: none;\n",
              "      fill: #1967D2;\n",
              "      height: 32px;\n",
              "      padding: 0 0 0 0;\n",
              "      width: 32px;\n",
              "    }\n",
              "\n",
              "    .colab-df-convert:hover {\n",
              "      background-color: #E2EBFA;\n",
              "      box-shadow: 0px 1px 2px rgba(60, 64, 67, 0.3), 0px 1px 3px 1px rgba(60, 64, 67, 0.15);\n",
              "      fill: #174EA6;\n",
              "    }\n",
              "\n",
              "    [theme=dark] .colab-df-convert {\n",
              "      background-color: #3B4455;\n",
              "      fill: #D2E3FC;\n",
              "    }\n",
              "\n",
              "    [theme=dark] .colab-df-convert:hover {\n",
              "      background-color: #434B5C;\n",
              "      box-shadow: 0px 1px 3px 1px rgba(0, 0, 0, 0.15);\n",
              "      filter: drop-shadow(0px 1px 2px rgba(0, 0, 0, 0.3));\n",
              "      fill: #FFFFFF;\n",
              "    }\n",
              "  </style>\n",
              "\n",
              "      <script>\n",
              "        const buttonEl =\n",
              "          document.querySelector('#df-00a4b8f5-96ba-4228-8b0b-ae633b76b97f button.colab-df-convert');\n",
              "        buttonEl.style.display =\n",
              "          google.colab.kernel.accessAllowed ? 'block' : 'none';\n",
              "\n",
              "        async function convertToInteractive(key) {\n",
              "          const element = document.querySelector('#df-00a4b8f5-96ba-4228-8b0b-ae633b76b97f');\n",
              "          const dataTable =\n",
              "            await google.colab.kernel.invokeFunction('convertToInteractive',\n",
              "                                                     [key], {});\n",
              "          if (!dataTable) return;\n",
              "\n",
              "          const docLinkHtml = 'Like what you see? Visit the ' +\n",
              "            '<a target=\"_blank\" href=https://colab.research.google.com/notebooks/data_table.ipynb>data table notebook</a>'\n",
              "            + ' to learn more about interactive tables.';\n",
              "          element.innerHTML = '';\n",
              "          dataTable['output_type'] = 'display_data';\n",
              "          await google.colab.output.renderOutput(dataTable, element);\n",
              "          const docLink = document.createElement('div');\n",
              "          docLink.innerHTML = docLinkHtml;\n",
              "          element.appendChild(docLink);\n",
              "        }\n",
              "      </script>\n",
              "    </div>\n",
              "  </div>\n",
              "  "
            ]
          },
          "metadata": {},
          "execution_count": 5
        }
      ],
      "source": [
        "data.describe().T"
      ]
    },
    {
      "cell_type": "markdown",
      "metadata": {
        "id": "TDi4QL6kk4qn"
      },
      "source": [
        "## 3.4 How many patients are alive? "
      ]
    },
    {
      "cell_type": "code",
      "execution_count": null,
      "metadata": {
        "id": "UK_xePQ0YqgG"
      },
      "outputs": [],
      "source": [
        "data['Status'].value_counts()"
      ]
    },
    {
      "cell_type": "markdown",
      "metadata": {
        "id": "-IbdFHfsk4qn"
      },
      "source": [
        "## 4 Visualize the data with Matplotlib and Seaborn"
      ]
    },
    {
      "cell_type": "code",
      "execution_count": null,
      "metadata": {
        "id": "-_wgzxnLYuej"
      },
      "outputs": [],
      "source": [
        "# store the Status label as y\n",
        "y = data['Status']\n",
        "\n",
        "# seperate features into numerical and categorical datasets\n",
        "X_num = data[['Age', 'Tumor Size', 'Reginol Node Positive', 'Survival Months', 'Regional Node Examined']]\n",
        "X_cat = data[['Race', 'Marital Status', 'T Stage ', 'N Stage', '6th Stage', 'differentiate', 'Grade', 'A Stage','Estrogen Status',\n",
        "                  'Progesterone Status']]\n"
      ]
    },
    {
      "cell_type": "markdown",
      "metadata": {
        "id": "-EAVQDHJk4qo"
      },
      "source": [
        "## 4.1 Plot histograms for numerical features"
      ]
    },
    {
      "cell_type": "markdown",
      "metadata": {
        "id": "RLCAZCd5k4qo"
      },
      "source": [
        "Pay attention to clear splits in the plots for the numerical features."
      ]
    },
    {
      "cell_type": "code",
      "execution_count": 5,
      "metadata": {
        "id": "Am8lSHwWk4qo",
        "colab": {
          "base_uri": "https://localhost:8080/",
          "height": 258
        },
        "outputId": "39b46604-16a6-4438-88a3-d1a9bdaa995f"
      },
      "outputs": [
        {
          "output_type": "error",
          "ename": "NameError",
          "evalue": "ignored",
          "traceback": [
            "\u001b[0;31m---------------------------------------------------------------------------\u001b[0m",
            "\u001b[0;31mNameError\u001b[0m                                 Traceback (most recent call last)",
            "\u001b[0;32m<ipython-input-5-84eb5420dfe2>\u001b[0m in \u001b[0;36m<module>\u001b[0;34m\u001b[0m\n\u001b[1;32m      2\u001b[0m \u001b[0mplt\u001b[0m\u001b[0;34m.\u001b[0m\u001b[0msubplots_adjust\u001b[0m\u001b[0;34m(\u001b[0m\u001b[0mhspace\u001b[0m \u001b[0;34m=\u001b[0m \u001b[0;36m.5\u001b[0m\u001b[0;34m)\u001b[0m\u001b[0;34m\u001b[0m\u001b[0;34m\u001b[0m\u001b[0m\n\u001b[1;32m      3\u001b[0m \u001b[0;34m\u001b[0m\u001b[0m\n\u001b[0;32m----> 4\u001b[0;31m \u001b[0;32mfor\u001b[0m \u001b[0mi\u001b[0m\u001b[0;34m,\u001b[0m \u001b[0mcolumn\u001b[0m \u001b[0;32min\u001b[0m \u001b[0menumerate\u001b[0m\u001b[0;34m(\u001b[0m\u001b[0mX_num\u001b[0m\u001b[0;34m,\u001b[0m \u001b[0;36m1\u001b[0m\u001b[0;34m)\u001b[0m\u001b[0;34m:\u001b[0m\u001b[0;34m\u001b[0m\u001b[0;34m\u001b[0m\u001b[0m\n\u001b[0m\u001b[1;32m      5\u001b[0m     \u001b[0mplt\u001b[0m\u001b[0;34m.\u001b[0m\u001b[0msubplot\u001b[0m\u001b[0;34m(\u001b[0m\u001b[0;36m3\u001b[0m\u001b[0;34m,\u001b[0m\u001b[0;36m2\u001b[0m\u001b[0;34m,\u001b[0m\u001b[0mi\u001b[0m\u001b[0;34m)\u001b[0m\u001b[0;34m\u001b[0m\u001b[0;34m\u001b[0m\u001b[0m\n\u001b[1;32m      6\u001b[0m     \u001b[0msns\u001b[0m\u001b[0;34m.\u001b[0m\u001b[0mhistplot\u001b[0m\u001b[0;34m(\u001b[0m\u001b[0mdata\u001b[0m\u001b[0;34m=\u001b[0m\u001b[0mX_num\u001b[0m\u001b[0;34m,\u001b[0m \u001b[0mx\u001b[0m\u001b[0;34m=\u001b[0m\u001b[0mcolumn\u001b[0m\u001b[0;34m,\u001b[0m \u001b[0mhue\u001b[0m\u001b[0;34m=\u001b[0m\u001b[0my\u001b[0m\u001b[0;34m,\u001b[0m \u001b[0mstat\u001b[0m\u001b[0;34m=\u001b[0m\u001b[0;34m\"density\"\u001b[0m\u001b[0;34m,\u001b[0m \u001b[0mcommon_norm\u001b[0m\u001b[0;34m=\u001b[0m\u001b[0;32mFalse\u001b[0m\u001b[0;34m,\u001b[0m \u001b[0mbins\u001b[0m\u001b[0;34m=\u001b[0m\u001b[0;36m60\u001b[0m\u001b[0;34m,\u001b[0m \u001b[0mkde\u001b[0m\u001b[0;34m=\u001b[0m\u001b[0;32mTrue\u001b[0m\u001b[0;34m)\u001b[0m\u001b[0;34m\u001b[0m\u001b[0;34m\u001b[0m\u001b[0m\n",
            "\u001b[0;31mNameError\u001b[0m: name 'X_num' is not defined"
          ]
        },
        {
          "output_type": "display_data",
          "data": {
            "text/plain": [
              "<Figure size 1296x864 with 0 Axes>"
            ]
          },
          "metadata": {}
        }
      ],
      "source": [
        "plt.figure(figsize=(18,12))\n",
        "plt.subplots_adjust(hspace = .5)\n",
        "\n",
        "for i, column in enumerate(X_num, 1):\n",
        "    plt.subplot(3,2,i)\n",
        "    sns.histplot(data=X_num, x=column, hue=y, stat=\"density\", common_norm=False, bins=60, kde=True)\n",
        "   \n",
        "    # stat - Aggregate statistic to compute in each bin density normalizes counts so that the area of the histogram is 1\n",
        "    # common_norm - If False, normalize each histogram independently\n",
        "    # kde - If True, compute a kernel density estimate to smooth the distribution and show on the plot as (one or more) line(s)"
      ]
    },
    {
      "cell_type": "markdown",
      "metadata": {
        "id": "DNN9gm-xk4qo"
      },
      "source": [
        "Next steps:\n",
        "1. Age and Suvival Months have clear seperation between Alive and Dead patients\n",
        "2. No clear seperation in Tumor Size, Reginol Node Positive, and Regional Node Examined, could drop"
      ]
    },
    {
      "cell_type": "markdown",
      "metadata": {
        "id": "3YPQkX2Ek4qo"
      },
      "source": [
        "## 4.2 Plot histograms for categorical features"
      ]
    },
    {
      "cell_type": "code",
      "execution_count": null,
      "metadata": {
        "id": "wS6ON9M_cSgH"
      },
      "outputs": [],
      "source": [
        "plt.figure(figsize=(18,12))\n",
        "plt.subplots_adjust(hspace = .5)\n",
        "for i, column in enumerate(X_cat, 1):\n",
        "    plt.subplot(5,2,i)\n",
        "    sns.histplot(data, x=column, hue=y, multiple='fill', stat='proportion',\n",
        "    shrink=.8) #stat=\"proportion\",discrete=True)"
      ]
    },
    {
      "cell_type": "markdown",
      "metadata": {
        "id": "yNeGTTIek4qo"
      },
      "source": [
        "Next steps:\n",
        "1. T Stage, N Stage, 6th Stage, differentiate, and Grade are **ordinal** variables, meaning that there is a clear ordering of the categories.\n",
        "   eg. For T Stage, as the number following the T increases, the higher the proportion of those who die from cancer\n",
        "2. Race, Marital Status, A Stage, Estrogen Status, and Progesterone Status are **non-ordinal** variables, meaning that they have no intrinsic ordering to the categories."
      ]
    },
    {
      "cell_type": "markdown",
      "metadata": {
        "id": "86wQZiY_k4qo"
      },
      "source": [
        "## 5 Explore correlation among features"
      ]
    },
    {
      "cell_type": "code",
      "execution_count": null,
      "metadata": {
        "id": "uPGfauzTa96B"
      },
      "outputs": [],
      "source": [
        "corr_matrix = X_num.corr()\n",
        "mask = np.triu(np.ones_like(corr_matrix, dtype=bool))\n",
        "sns.heatmap(corr_matrix, mask=mask, annot=True)"
      ]
    },
    {
      "cell_type": "markdown",
      "metadata": {
        "id": "DGgCvTyVk4qp"
      },
      "source": [
        "It appears that Reginol Node Positive and Tumor Size had a moderately strong correlation (0.24) and Regional Node Examined and Reginol Node Positive have a moderately strong correlation as well (0.41)."
      ]
    },
    {
      "cell_type": "markdown",
      "source": [
        "## Summary:\n",
        "* We perform EDA to analyze and investigate data sets and summarize their main characteristics.\n",
        "* Age and Suvival Months have clear seperation between Alive and Dead patients.\n",
        "* T Stage, N Stage, 6th Stage, differentiate, and Grade are ordinal variables. The higher the number, the more likely a patient is to die from cancer.\n",
        "\n",
        "Now that you know how to perform EDA, let's head over to the next notebook, `02-feature_preprocessing.ipynb` to see how we can prepare our data for model ingestion."
      ],
      "metadata": {
        "id": "IlnmdUGvKg8S"
      }
    }
  ],
  "metadata": {
    "colab": {
      "provenance": [],
      "collapsed_sections": [],
      "include_colab_link": true
    },
    "kernelspec": {
      "display_name": "Python 3 (ipykernel)",
      "language": "python",
      "name": "python3"
    },
    "language_info": {
      "codemirror_mode": {
        "name": "ipython",
        "version": 3
      },
      "file_extension": ".py",
      "mimetype": "text/x-python",
      "name": "python",
      "nbconvert_exporter": "python",
      "pygments_lexer": "ipython3",
      "version": "3.9.7"
    }
  },
  "nbformat": 4,
  "nbformat_minor": 0
}